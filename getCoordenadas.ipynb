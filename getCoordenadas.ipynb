{
  "nbformat": 4,
  "nbformat_minor": 0,
  "metadata": {
    "colab": {
      "name": "getCoordenadas.ipynb",
      "provenance": [],
      "collapsed_sections": [],
      "authorship_tag": "ABX9TyP0WSX2O5Pr/G0he/yKrivT",
      "include_colab_link": true
    },
    "kernelspec": {
      "name": "python3",
      "display_name": "Python 3"
    }
  },
  "cells": [
    {
      "cell_type": "markdown",
      "metadata": {
        "id": "view-in-github",
        "colab_type": "text"
      },
      "source": [
        "<a href=\"https://colab.research.google.com/github/gmezaarrepol/business/blob/master/getCoordenadas.ipynb\" target=\"_parent\"><img src=\"https://colab.research.google.com/assets/colab-badge.svg\" alt=\"Open In Colab\"/></a>"
      ]
    },
    {
      "cell_type": "code",
      "metadata": {
        "id": "P-JPFA9v8ldH",
        "colab_type": "code",
        "colab": {}
      },
      "source": [
        "import pandas as pd\n",
        "from geopy.geocoders import Nominatim\n",
        "import numpy as np"
      ],
      "execution_count": null,
      "outputs": []
    },
    {
      "cell_type": "code",
      "metadata": {
        "id": "2nCdSB1Q9RIz",
        "colab_type": "code",
        "colab": {}
      },
      "source": [
        "url = 'https://raw.githubusercontent.com/gmezaarrepol/business/master/csv/adress5.csv'\n",
        "df = pd.read_csv(url, sep = ';', error_bad_lines=False)\n",
        "df = df.replace(np.nan, 'None', regex=True)"
      ],
      "execution_count": null,
      "outputs": []
    },
    {
      "cell_type": "code",
      "metadata": {
        "id": "qGO9iwa3CTaI",
        "colab_type": "code",
        "colab": {
          "base_uri": "https://localhost:8080/",
          "height": 649
        },
        "outputId": "2229c412-711c-4428-dfe4-beb4c6e04335"
      },
      "source": [
        "geolocator = Nominatim()\n",
        "direcciones = df['Address'].tolist()\n",
        "\n",
        "for i in direcciones:\n",
        "  if geolocator.geocode(i) == None:\n",
        "    # si da error se debe revisar la direccion, podria estar mal ingresada\n",
        "    coord = 0\n",
        "    lat = 0\n",
        "    lon = 0\n",
        "    print(coord, lat, lon)\n",
        "  else:\n",
        "    coord = geolocator.geocode(i)\n",
        "    lat = coord.latitude\n",
        "    lon = coord.longitude\n",
        "    print(coord, lat, lon)\n",
        "    # todo: cargar el resultado a un dataframe, para luego hacer el append hacia el principal \n"
      ],
      "execution_count": null,
      "outputs": [
        {
          "output_type": "stream",
          "text": [
            "/usr/local/lib/python3.6/dist-packages/geopy/geocoders/osm.py:143: UserWarning: Using Nominatim with the default \"geopy/1.17.0\" `user_agent` is strongly discouraged, as it violates Nominatim's ToS https://operations.osmfoundation.org/policies/nominatim/ and may possibly cause 403 and 429 HTTP errors. Please specify a custom `user_agent` with `Nominatim(user_agent=\"my-application\")` or by overriding the default `user_agent`: `geopy.geocoders.options.default_user_agent = \"my-application\"`. In geopy 2.0 this will become an exception.\n",
            "  UserWarning\n"
          ],
          "name": "stderr"
        },
        {
          "output_type": "stream",
          "text": [
            "0 0 0\n",
            "2414, Avenida Ramón Freire, Barrio Industrial, El Belloto, Quilpué, Provincia de Marga Marga, Región de Valparaíso, 2421183, Chile -33.0453313 -71.4226194\n",
            "0 0 0\n",
            "0 0 0\n",
            "2249, Avenida Nueva Providencia, Providencia, Provincia de Santiago, Región Metropolitana de Santiago, 7500000, Chile -33.4221446 -70.6085237\n",
            "Paseo Puente, Barrio Lastarria, Santiago, Provincia de Santiago, Región Metropolitana de Santiago, Chile -33.43573670000001 -70.65151182782495\n",
            "0 0 0\n",
            "0 0 0\n",
            "2425, Avenida Andrés Bello, Providencia, Provincia de Santiago, Región Metropolitana de Santiago, 7500000, Chile -33.417961 -70.6080278\n",
            "0 0 0\n",
            "Hites, Avenida Bernardo O'Higgins, Valle Lo Campino, Quilicura, Provincia de Santiago, Región Metropolitana de Santiago, 8700000, Chile -33.3686196 -70.730126\n",
            "Camilo Henríquez, Población Beneficiencia, Isla Teja, Valdivia, Provincia de Valdivia, Región de Los Ríos, 50900000, Chile -39.8165101 -73.2453258\n",
            "Avenida Américo Vespucio, La Cisterna, Provincia de Santiago, Región Metropolitana de Santiago, 7970670, Chile -33.5387666 -70.6595173\n",
            "Maipú, Población Juan Pablo II, El Palomar, Copiapó, Provincia de Copiapó, Región de Atacama, 1530000, Chile -27.3599346 -70.3289304\n",
            "5413, Avenida Presidente Kennedy, Nueva Las Condes, Las Condes, Provincia de Santiago, Región Metropolitana de Santiago, 7550000, Chile -33.403642 -70.5791844\n",
            "0 0 0\n",
            "0 0 0\n",
            "671, Avenida Alemania, Condominio Los Conquistadores IV, María Luisa, Temuco, Provincia de Cautín, Región de la Araucanía, 4810370, Chile -38.7347419 -72.6110002\n",
            "561, Arauco, Población Beneficiencia, Las Ánimas, Valdivia, Provincia de Valdivia, Región de Los Ríos, 50900000, Chile -39.8165165 -73.2425875\n",
            "0 0 0\n",
            "Avenida Portales, Villa las Alamedas de San Bernardo, Panamericana Sur, Provincia de Maipo, Región Metropolitana de Santiago, 648, Chile -33.628208 -70.7030873\n",
            "Paseo Ahumada, Barrio Lastarria, Santiago, Provincia de Santiago, Región Metropolitana de Santiago, Chile -33.44105635 -70.65077330263208\n",
            "0 0 0\n",
            "Calle 1 Sur, Población Esperanza, San Miguel, Talca, Provincia de Talca, Región del Maule, 3461761, Chile -35.4285084 -71.6493864\n",
            "Juan Soler Manfredini, Población Vista Hermosa, Pelluco, Puerto Montt, Provincia de Llanquihue, Región de Los Lagos, 5480000, Chile -41.4756701 -72.9194504\n",
            "0 0 0\n",
            "Chilexpress, Gran Avenida José Miguel Carrera, San Miguel, Provincia de Santiago, Región Metropolitana de Santiago, 7980008, Chile -33.5125455 -70.6570151\n",
            "3300, Avenida Américo Vespucio, Peñalolén, Provincia de Santiago, Región Metropolitana de Santiago, 7810677, Chile -33.485918850000004 -70.57780380367832\n",
            "2425, Avenida Andrés Bello, Providencia, Provincia de Santiago, Región Metropolitana de Santiago, 7500000, Chile -33.417961 -70.6080278\n",
            "0 0 0\n",
            "Camilo Henríquez, Población Beneficiencia, Isla Teja, Valdivia, Provincia de Valdivia, Región de Los Ríos, 50900000, Chile -39.8165101 -73.2453258\n",
            "0 0 0\n",
            "0 0 0\n",
            "Chilexpress, Gran Avenida José Miguel Carrera, San Miguel, Provincia de Santiago, Región Metropolitana de Santiago, 7980008, Chile -33.5125455 -70.6570151\n"
          ],
          "name": "stdout"
        }
      ]
    },
    {
      "cell_type": "code",
      "metadata": {
        "id": "GfiAKbePDgFx",
        "colab_type": "code",
        "colab": {}
      },
      "source": [
        "df1.to_csv(r'FileName5.csv')"
      ],
      "execution_count": null,
      "outputs": []
    }
  ]
}