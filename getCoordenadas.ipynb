{
  "nbformat": 4,
  "nbformat_minor": 0,
  "metadata": {
    "colab": {
      "name": "getCoordenadas.ipynb",
      "provenance": [],
      "collapsed_sections": [],
      "authorship_tag": "ABX9TyOMvxcDw368MSPDTLUZLhRF",
      "include_colab_link": true
    },
    "kernelspec": {
      "name": "python3",
      "display_name": "Python 3"
    }
  },
  "cells": [
    {
      "cell_type": "markdown",
      "metadata": {
        "id": "view-in-github",
        "colab_type": "text"
      },
      "source": [
        "<a href=\"https://colab.research.google.com/github/gmezaarrepol/business/blob/master/getCoordenadas.ipynb\" target=\"_parent\"><img src=\"https://colab.research.google.com/assets/colab-badge.svg\" alt=\"Open In Colab\"/></a>"
      ]
    },
    {
      "cell_type": "code",
      "metadata": {
        "id": "P-JPFA9v8ldH",
        "colab_type": "code",
        "colab": {}
      },
      "source": [
        "import pandas as pd\n",
        "from geopy.geocoders import Nominatim\n",
        "import numpy as np"
      ],
      "execution_count": 1,
      "outputs": []
    },
    {
      "cell_type": "code",
      "metadata": {
        "id": "2nCdSB1Q9RIz",
        "colab_type": "code",
        "colab": {}
      },
      "source": [
        "url = 'https://raw.githubusercontent.com/gmezaarrepol/business/master/csv/adress99.csv'\n",
        "df = pd.read_csv(url, sep = ';', error_bad_lines=False)\n",
        "df = df.replace(np.nan, 'None', regex=True)"
      ],
      "execution_count": 2,
      "outputs": []
    },
    {
      "cell_type": "code",
      "metadata": {
        "id": "qGO9iwa3CTaI",
        "colab_type": "code",
        "colab": {
          "base_uri": "https://localhost:8080/",
          "height": 513
        },
        "outputId": "99484fb9-05ab-44e1-c511-3caa73e8488b"
      },
      "source": [
        "geolocator = Nominatim()\n",
        "direcciones = df['Address'].tolist()\n",
        "\n",
        "for i in direcciones:\n",
        "  if geolocator.geocode(i) == None:\n",
        "    # si da error se debe revisar la direccion, podria estar mal ingresada o no encontrar la direccion\n",
        "    coord = 0\n",
        "    lat = 0\n",
        "    lon = 0\n",
        "    print(coord, lat, lon)\n",
        "  else:\n",
        "    coord = geolocator.geocode(i)\n",
        "    lat = coord.latitude\n",
        "    lon = coord.longitude\n",
        "    print(coord, lat, lon)\n",
        "    # todo: cargar el resultado a un dataframe, para luego hacer el append hacia el principal "
      ],
      "execution_count": 3,
      "outputs": [
        {
          "output_type": "stream",
          "text": [
            "/usr/local/lib/python3.6/dist-packages/geopy/geocoders/osm.py:143: UserWarning: Using Nominatim with the default \"geopy/1.17.0\" `user_agent` is strongly discouraged, as it violates Nominatim's ToS https://operations.osmfoundation.org/policies/nominatim/ and may possibly cause 403 and 429 HTTP errors. Please specify a custom `user_agent` with `Nominatim(user_agent=\"my-application\")` or by overriding the default `user_agent`: `geopy.geocoders.options.default_user_agent = \"my-application\"`. In geopy 2.0 this will become an exception.\n",
            "  UserWarning\n"
          ],
          "name": "stderr"
        },
        {
          "output_type": "stream",
          "text": [
            "Mall Plaza Iquique, Héroes de la Concepción, Condominio 4 Reinas II, Iquique, Provincia de Iquique, Región de Tarapacá, 1100000, Chile -20.23270905 -70.1427531606906\n",
            "Mall Plaza Iquique, Héroes de la Concepción, Condominio 4 Reinas II, Iquique, Provincia de Iquique, Región de Tarapacá, 1100000, Chile -20.23270905 -70.1427531606906\n",
            "Mall Plaza Antofagasta, Población Matta, Antofagasta, Provincia de Antofagasta, Región de Antofagasta, 1270460, Chile -23.6463426 -70.4026683\n",
            "Cine Hoyts, Avenida Balmaceda, Condominio El Alto, Ministro Hales, Calama, Provincia de El Loa, Región de Antofagasta, 234533, Chile -22.4483617 -68.9216709\n",
            "Cine Hoyts, Avenida Balmaceda, Condominio El Alto, Ministro Hales, Calama, Provincia de El Loa, Región de Antofagasta, 234533, Chile -22.4483617 -68.9216709\n",
            "Mall Plaza Copiapó, Jesús María, Rosario, El Palomar, Copiapó, Provincia de Copiapó, Región de Atacama, 1530000, Chile -27.368596750000002 -70.33957394313245\n",
            "0 0 0\n",
            "Mall Plaza La Serena, La Pampa, La Serena, Provincia de Elqui, Región de Coquimbo, Chile -29.91277255 -71.2582147791257\n",
            "Mall Plaza Los Ángeles, Población Dávila, Paillihue, Los Ángeles, Provincia de Bío-Bío, Región del Biobío, 4440000, Chile -37.4678008 -72.3530683\n",
            "Ripley, Mall Plaza Los Ángeles, Población Dávila, Paillihue, Los Ángeles, Provincia de Bío-Bío, Región del Biobío, 4440000, Chile -37.4673047 -72.3533015\n",
            "Mall Plaza Trebol, Estacionamiento Mall Plaza Trébol, Mall Plaza Trébol, Carriel Sur, Talcahuano, Provincia de Concepción, Región del Biobío, 4300525, Chile -36.7903934 -73.06517373591922\n",
            "Mall Plaza Alameda, Avenida Libertador Bernardo O'Higgins, Estación Central, Provincia de Santiago, Región Metropolitana de Santiago, 9160002, Chile -33.4530404 -70.68217881254996\n",
            "Mall Plaza Norte, Huechuraba, Provincia de Santiago, Región Metropolitana de Santiago, Chile -33.3661412 -70.67870301169461\n",
            "Mall Plaza Norte, Huechuraba, Provincia de Santiago, Región Metropolitana de Santiago, Chile -33.3661412 -70.67870301169461\n",
            "Mall Plaza Vespucio, La Florida, Provincia de Santiago, Región Metropolitana de Santiago, 8240000, Chile -33.51755245 -70.59820022959698\n",
            "Mall Plaza Vespucio, La Florida, Provincia de Santiago, Región Metropolitana de Santiago, 8240000, Chile -33.51755245 -70.59820022959698\n",
            "Mall Plaza Los Dominicos, Avenida Padre Hurtado Sur, Colón Oriente, Las Condes, Provincia de Santiago, Región Metropolitana de Santiago, 7550000, Chile -33.415240600000004 -70.5406784733833\n",
            "Mall Plaza Los Dominicos, Avenida Padre Hurtado Sur, Colón Oriente, Las Condes, Provincia de Santiago, Región Metropolitana de Santiago, 7550000, Chile -33.415240600000004 -70.5406784733833\n",
            "Mall Plaza Oeste, Serafín Zamora, Maipú, Provincia de Santiago, Región Metropolitana de Santiago, 9222145, Chile -33.5177566 -70.71732180616469\n",
            "Mall Plaza Tobalaba, Ciudad del Este, Puente Alto, Provincia de Cordillera, Región Metropolitana de Santiago, 8150000, Chile -33.5689532 -70.5551792\n",
            "Mall Plaza Sur, Nos, Panamericana Sur, Provincia de Maipo, Región Metropolitana de Santiago, 648, Chile -33.6327188 -70.7123435\n",
            "Mall Plaza Egaña, Avenida Larraín, La Reina, Provincia de Santiago, Región Metropolitana de Santiago, 7870154, Chile -33.452729250000004 -70.56971388127434\n",
            "Plaza de los Ríos, Villarrubia, Córdoba, Andalucía, 14711, España 37.8495581 -4.9120718\n",
            "KFC, Arauco, Población Beneficiencia, Las Ánimas, Valdivia, Provincia de Valdivia, Región de Los Ríos, 50900000, Chile -39.8166505 -73.2420607\n",
            "Fashio Park, Diego Portales, Conjunto Habitacional Pukara, Chinchorro, Arica, Provincia de Arica, Región de Arica y Parinacota, 1020759, Chile -18.4692842 -70.3083108\n",
            "Fashio Park, Diego Portales, Conjunto Habitacional Pukara, Chinchorro, Arica, Provincia de Arica, Región de Arica y Parinacota, 1020759, Chile -18.4692842 -70.3083108\n"
          ],
          "name": "stdout"
        }
      ]
    },
    {
      "cell_type": "code",
      "metadata": {
        "id": "GfiAKbePDgFx",
        "colab_type": "code",
        "colab": {}
      },
      "source": [
        ""
      ],
      "execution_count": 3,
      "outputs": []
    }
  ]
}